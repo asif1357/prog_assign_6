{
 "cells": [
  {
   "cell_type": "code",
   "execution_count": null,
   "id": "5c1e0df8",
   "metadata": {},
   "outputs": [],
   "source": [
    "#prog_1\n",
    "def fibon(n):\n",
    "    if n==1 or n==2:\n",
    "        return 1\n",
    "    else:\n",
    "        return fibon(n-1)+fibon(n)\n",
    "n=int(input(\"eneter the no. : \"))\n",
    "for i in range(1,n+1):\n",
    "    print(fibon(n))\n",
    "    \n"
   ]
  },
  {
   "cell_type": "code",
   "execution_count": 1,
   "id": "d1fef252",
   "metadata": {},
   "outputs": [
    {
     "name": "stdout",
     "output_type": "stream",
     "text": [
      "40320\n"
     ]
    }
   ],
   "source": [
    "#prog_2\n",
    "def facto(n):\n",
    "    if n==1 or n==0:\n",
    "        return 1\n",
    "    else:\n",
    "        n=n*facto(n-1)\n",
    "        return n\n",
    "print(facto(8))"
   ]
  },
  {
   "cell_type": "code",
   "execution_count": 1,
   "id": "980b6940",
   "metadata": {},
   "outputs": [
    {
     "name": "stdout",
     "output_type": "stream",
     "text": [
      "enter height in meter : 1.78\n",
      "enter weight in kg : 60\n",
      "your bmi is :  18.93700290367378\n"
     ]
    }
   ],
   "source": [
    "#prog_3\n",
    "ht=float(input(\"enter height in meter : \"))\n",
    "wt=float(input(\"enter weight in kg : \"))\n",
    "bmi=wt/ht**2\n",
    "print(\"your bmi is : \",bmi)"
   ]
  },
  {
   "cell_type": "code",
   "execution_count": 2,
   "id": "d4caf993",
   "metadata": {},
   "outputs": [
    {
     "name": "stdout",
     "output_type": "stream",
     "text": [
      "2.70805020110221\n"
     ]
    }
   ],
   "source": [
    "#prog_4\n",
    "import math\n",
    "print(math.log(15))"
   ]
  },
  {
   "cell_type": "code",
   "execution_count": 4,
   "id": "fd304f10",
   "metadata": {},
   "outputs": [
    {
     "name": "stdout",
     "output_type": "stream",
     "text": [
      "enter natural number6\n",
      "cubesum is :  441\n"
     ]
    }
   ],
   "source": [
    "#prog_5\n",
    "num=int(input(\"enter natural number\"))\n",
    "cubesum=int(((num)*(num+1))/2)**2\n",
    "print(\"cubesum is : \",cubesum)"
   ]
  },
  {
   "cell_type": "code",
   "execution_count": null,
   "id": "efc277c1",
   "metadata": {},
   "outputs": [],
   "source": [
    "()"
   ]
  }
 ],
 "metadata": {
  "kernelspec": {
   "display_name": "Python 3 (ipykernel)",
   "language": "python",
   "name": "python3"
  },
  "language_info": {
   "codemirror_mode": {
    "name": "ipython",
    "version": 3
   },
   "file_extension": ".py",
   "mimetype": "text/x-python",
   "name": "python",
   "nbconvert_exporter": "python",
   "pygments_lexer": "ipython3",
   "version": "3.9.12"
  }
 },
 "nbformat": 4,
 "nbformat_minor": 5
}
